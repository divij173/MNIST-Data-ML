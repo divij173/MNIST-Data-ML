{
 "cells": [
  {
   "cell_type": "markdown",
   "metadata": {},
   "source": [
    "## This notebook answers the Question 1 - Which type of complaints Department of Housing Preservation and Development should focus first ?"
   ]
  },
  {
   "cell_type": "markdown",
   "metadata": {},
   "source": [
    "# <font color=\"maroon\">Prepare Libraries</font>"
   ]
  },
  {
   "cell_type": "code",
   "execution_count": 1,
   "metadata": {},
   "outputs": [
    {
     "name": "stdout",
     "output_type": "stream",
     "text": [
      "Requirement already up-to-date: pip in /opt/conda/envs/DSX-Python35/lib/python3.5/site-packages (18.1)\r\n"
     ]
    }
   ],
   "source": [
    "!pip install --upgrade pip"
   ]
  },
  {
   "cell_type": "code",
   "execution_count": 2,
   "metadata": {
    "scrolled": false
   },
   "outputs": [
    {
     "name": "stdout",
     "output_type": "stream",
     "text": [
      "Requirement already satisfied: missingno in /opt/conda/envs/DSX-Python35/lib/python3.5/site-packages (0.4.1)\r\n",
      "Requirement already satisfied: matplotlib in /opt/conda/envs/DSX-Python35/lib/python3.5/site-packages (from missingno) (3.0.2)\r\n",
      "Requirement already satisfied: seaborn in /opt/conda/envs/DSX-Python35/lib/python3.5/site-packages (from missingno) (0.8)\r\n",
      "Requirement already satisfied: scipy in /opt/conda/envs/DSX-Python35/lib/python3.5/site-packages (from missingno) (1.0.0)\r\n",
      "Requirement already satisfied: numpy in /opt/conda/envs/DSX-Python35/lib/python3.5/site-packages (from missingno) (1.13.3)\r\n",
      "Requirement already satisfied: kiwisolver>=1.0.1 in /opt/conda/envs/DSX-Python35/lib/python3.5/site-packages (from matplotlib->missingno) (1.0.1)\r\n",
      "Requirement already satisfied: cycler>=0.10 in /opt/conda/envs/DSX-Python35/lib/python3.5/site-packages (from matplotlib->missingno) (0.10.0)\r\n",
      "Requirement already satisfied: pyparsing!=2.0.4,!=2.1.2,!=2.1.6,>=2.0.1 in /opt/conda/envs/DSX-Python35/lib/python3.5/site-packages (from matplotlib->missingno) (2.2.0)\r\n",
      "Requirement already satisfied: python-dateutil>=2.1 in /opt/conda/envs/DSX-Python35/lib/python3.5/site-packages (from matplotlib->missingno) (2.6.1)\r\n",
      "Requirement already satisfied: pandas in /opt/conda/envs/DSX-Python35/lib/python3.5/site-packages (from seaborn->missingno) (0.21.0)\r\n",
      "Requirement already satisfied: setuptools in /opt/conda/envs/DSX-Python35/lib/python3.5/site-packages (from kiwisolver>=1.0.1->matplotlib->missingno) (36.5.0.post20170921)\r\n",
      "Requirement already satisfied: six in /opt/conda/envs/DSX-Python35/lib/python3.5/site-packages (from cycler>=0.10->matplotlib->missingno) (1.11.0)\r\n",
      "Requirement already satisfied: pytz>=2011k in /opt/conda/envs/DSX-Python35/lib/python3.5/site-packages (from pandas->seaborn->missingno) (2018.3)\r\n"
     ]
    }
   ],
   "source": [
    "!pip install missingno"
   ]
  },
  {
   "cell_type": "code",
   "execution_count": 3,
   "metadata": {},
   "outputs": [
    {
     "name": "stdout",
     "output_type": "stream",
     "text": [
      "Requirement already satisfied: TextBlob in /opt/conda/envs/DSX-Python35/lib/python3.5/site-packages (0.15.2)\r\n",
      "Requirement already satisfied: nltk>=3.1 in /opt/conda/envs/DSX-Python35/lib/python3.5/site-packages (from TextBlob) (3.2.4)\r\n",
      "Requirement already satisfied: six in /opt/conda/envs/DSX-Python35/lib/python3.5/site-packages (from nltk>=3.1->TextBlob) (1.11.0)\r\n"
     ]
    }
   ],
   "source": [
    "!pip install TextBlob"
   ]
  },
  {
   "cell_type": "code",
   "execution_count": 4,
   "metadata": {},
   "outputs": [],
   "source": [
    "import pandas as pd\n",
    "import numpy as np\n",
    "import scipy\n",
    "import os\n",
    "import matplotlib.pyplot as plt\n",
    "import seaborn as sns\n",
    "import missingno as ms\n",
    "from sklearn.preprocessing import MinMaxScaler\n",
    "from sklearn.preprocessing import StandardScaler\n",
    "from sklearn.preprocessing import Normalizer\n",
    "from sklearn.preprocessing import Binarizer\n",
    "from IPython.display import display\n",
    "%matplotlib inline\n",
    "\n",
    "pd.options.display.float_format = '{:20,.3f}'.format\n",
    "pd.options.display.max_columns = None\n",
    "pd.options.display.max_colwidth = 1000\n",
    "np.set_printoptions(precision=3)"
   ]
  },
  {
   "cell_type": "markdown",
   "metadata": {},
   "source": [
    "# <font color=\"maroon\">Read Data</font>"
   ]
  },
  {
   "cell_type": "code",
   "execution_count": 7,
   "metadata": {},
   "outputs": [],
   "source": [
    "client_4583a2827cdd4084aebc758e0b87cb12.download_file(Bucket=bucket,Key='311_raw_cos.pkl',Filename='./311_raw_loc.pkl')"
   ]
  },
  {
   "cell_type": "code",
   "execution_count": 8,
   "metadata": {},
   "outputs": [
    {
     "data": {
      "text/plain": [
       "(5473244, 16)"
      ]
     },
     "execution_count": 8,
     "metadata": {},
     "output_type": "execute_result"
    }
   ],
   "source": [
    "df_complaint = pd.read_pickle('./311_raw_loc.pkl')\n",
    "df_complaint.shape"
   ]
  },
  {
   "cell_type": "code",
   "execution_count": 9,
   "metadata": {
    "scrolled": true
   },
   "outputs": [
    {
     "data": {
      "text/plain": [
       "HEAT/HOT WATER            1007883\n",
       "HEATING                    887869\n",
       "PLUMBING                   669343\n",
       "GENERAL CONSTRUCTION       500863\n",
       "UNSANITARY CONDITION       384747\n",
       "PAINT - PLASTER            361258\n",
       "PAINT/PLASTER              306969\n",
       "ELECTRIC                   287587\n",
       "NONCONST                   260890\n",
       "DOOR/WINDOW                176649\n",
       "WATER LEAK                 164481\n",
       "GENERAL                    130316\n",
       "FLOORING/STAIRS            121061\n",
       "APPLIANCE                  100733\n",
       "HPD Literature Request      52172\n",
       "SAFETY                      43375\n",
       "OUTSIDE BUILDING             6460\n",
       "ELEVATOR                     5477\n",
       "CONSTRUCTION                 5078\n",
       "STRUCTURAL                     16\n",
       "AGENCY                          9\n",
       "VACANT APARTMENT                8\n",
       "Name: complaint_type, dtype: int64"
      ]
     },
     "execution_count": 9,
     "metadata": {},
     "output_type": "execute_result"
    }
   ],
   "source": [
    "df_complaint['complaint_type'].value_counts()"
   ]
  },
  {
   "cell_type": "markdown",
   "metadata": {},
   "source": [
    "# <font size=4>New York City Open Data data file web site indicated that the complaint type \"HEAT/HOT Water\" was renamed from \"HEATING\" after 2014. So we should combine these two types into one.</font>"
   ]
  },
  {
   "cell_type": "code",
   "execution_count": 10,
   "metadata": {},
   "outputs": [],
   "source": [
    "df_complaint['complaint_type'] = np.where(df_complaint['complaint_type']=='HEATING','HEAT/HOT WATER',df_complaint['complaint_type'])"
   ]
  },
  {
   "cell_type": "code",
   "execution_count": 11,
   "metadata": {},
   "outputs": [
    {
     "data": {
      "text/plain": [
       "HEAT/HOT WATER            1895752\n",
       "PLUMBING                   669343\n",
       "GENERAL CONSTRUCTION       500863\n",
       "UNSANITARY CONDITION       384747\n",
       "PAINT - PLASTER            361258\n",
       "PAINT/PLASTER              306969\n",
       "ELECTRIC                   287587\n",
       "NONCONST                   260890\n",
       "DOOR/WINDOW                176649\n",
       "WATER LEAK                 164481\n",
       "GENERAL                    130316\n",
       "FLOORING/STAIRS            121061\n",
       "APPLIANCE                  100733\n",
       "HPD Literature Request      52172\n",
       "SAFETY                      43375\n",
       "OUTSIDE BUILDING             6460\n",
       "ELEVATOR                     5477\n",
       "CONSTRUCTION                 5078\n",
       "STRUCTURAL                     16\n",
       "AGENCY                          9\n",
       "VACANT APARTMENT                8\n",
       "Name: complaint_type, dtype: int64"
      ]
     },
     "execution_count": 11,
     "metadata": {},
     "output_type": "execute_result"
    }
   ],
   "source": [
    "df_complaint['complaint_type'].value_counts()"
   ]
  },
  {
   "cell_type": "markdown",
   "metadata": {},
   "source": [
    "#  <font size=4> This makes HEAT/HOT WATER (including Heating) to be the complaint type with highest number of Complaints"
   ]
  },
  {
   "cell_type": "code",
   "execution_count": 12,
   "metadata": {
    "scrolled": true
   },
   "outputs": [
    {
     "data": {
      "text/html": [
       "<div>\n",
       "<style scoped>\n",
       "    .dataframe tbody tr th:only-of-type {\n",
       "        vertical-align: middle;\n",
       "    }\n",
       "\n",
       "    .dataframe tbody tr th {\n",
       "        vertical-align: top;\n",
       "    }\n",
       "\n",
       "    .dataframe thead th {\n",
       "        text-align: right;\n",
       "    }\n",
       "</style>\n",
       "<table border=\"1\" class=\"dataframe\">\n",
       "  <thead>\n",
       "    <tr style=\"text-align: right;\">\n",
       "      <th></th>\n",
       "      <th>address_type</th>\n",
       "      <th>borough</th>\n",
       "      <th>city</th>\n",
       "      <th>closed_date</th>\n",
       "      <th>complaint_type</th>\n",
       "      <th>created_date</th>\n",
       "      <th>incident_address</th>\n",
       "      <th>incident_zip</th>\n",
       "      <th>latitude</th>\n",
       "      <th>location_type</th>\n",
       "      <th>longitude</th>\n",
       "      <th>open_data_channel_type</th>\n",
       "      <th>resolution_description</th>\n",
       "      <th>status</th>\n",
       "      <th>street_name</th>\n",
       "      <th>unique_key</th>\n",
       "    </tr>\n",
       "  </thead>\n",
       "  <tbody>\n",
       "    <tr>\n",
       "      <th>0</th>\n",
       "      <td>ADDRESS</td>\n",
       "      <td>MANHATTAN</td>\n",
       "      <td>NEW YORK</td>\n",
       "      <td>2016-12-23 16:03:22</td>\n",
       "      <td>APPLIANCE</td>\n",
       "      <td>2016-12-05 16:13:38</td>\n",
       "      <td>4530 BROADWAY</td>\n",
       "      <td>10040</td>\n",
       "      <td>40.85866294920167</td>\n",
       "      <td>RESIDENTIAL BUILDING</td>\n",
       "      <td>-73.93162121628747</td>\n",
       "      <td>PHONE</td>\n",
       "      <td>The Department of Housing Preservation and Development contacted an occupant of the apartment and verified that the following conditions were corrected. The complaint has been closed. If the condition still exists, please file a new complaint.</td>\n",
       "      <td>Closed</td>\n",
       "      <td>BROADWAY</td>\n",
       "      <td>34931759</td>\n",
       "    </tr>\n",
       "    <tr>\n",
       "      <th>1</th>\n",
       "      <td>ADDRESS</td>\n",
       "      <td>QUEENS</td>\n",
       "      <td>Richmond Hill</td>\n",
       "      <td>2017-02-24 11:14:57</td>\n",
       "      <td>DOOR/WINDOW</td>\n",
       "      <td>2016-12-05 20:43:42</td>\n",
       "      <td>86-41 127 STREET</td>\n",
       "      <td>11418</td>\n",
       "      <td>40.70243106364418</td>\n",
       "      <td>RESIDENTIAL BUILDING</td>\n",
       "      <td>-73.82410319660279</td>\n",
       "      <td>PHONE</td>\n",
       "      <td>The Department of Housing Preservation and Development inspected the following conditions. Violations were issued. Information about specific violations is available at www.nyc.gov/hpd.</td>\n",
       "      <td>Closed</td>\n",
       "      <td>127 STREET</td>\n",
       "      <td>34931760</td>\n",
       "    </tr>\n",
       "    <tr>\n",
       "      <th>2</th>\n",
       "      <td>ADDRESS</td>\n",
       "      <td>BROOKLYN</td>\n",
       "      <td>BROOKLYN</td>\n",
       "      <td>2016-12-20 12:37:56</td>\n",
       "      <td>DOOR/WINDOW</td>\n",
       "      <td>2016-12-05 14:59:24</td>\n",
       "      <td>788 NEW LOTS AVENUE</td>\n",
       "      <td>11208</td>\n",
       "      <td>40.66695397398726</td>\n",
       "      <td>RESIDENTIAL BUILDING</td>\n",
       "      <td>-73.88132717448943</td>\n",
       "      <td>PHONE</td>\n",
       "      <td>The Department of Housing Preservation and Development inspected the following conditions. No violations were issued. The complaint has been closed.</td>\n",
       "      <td>Closed</td>\n",
       "      <td>NEW LOTS AVENUE</td>\n",
       "      <td>34931765</td>\n",
       "    </tr>\n",
       "    <tr>\n",
       "      <th>3</th>\n",
       "      <td>ADDRESS</td>\n",
       "      <td>MANHATTAN</td>\n",
       "      <td>NEW YORK</td>\n",
       "      <td>2016-12-20 10:54:18</td>\n",
       "      <td>DOOR/WINDOW</td>\n",
       "      <td>2016-12-05 16:40:33</td>\n",
       "      <td>153 MANHATTAN AVENUE</td>\n",
       "      <td>10025</td>\n",
       "      <td>40.79942645281985</td>\n",
       "      <td>RESIDENTIAL BUILDING</td>\n",
       "      <td>-73.96092712820946</td>\n",
       "      <td>PHONE</td>\n",
       "      <td>The Department of Housing Preservation and Development inspected the following conditions. No violations were issued. The complaint has been closed.</td>\n",
       "      <td>Closed</td>\n",
       "      <td>MANHATTAN AVENUE</td>\n",
       "      <td>34931771</td>\n",
       "    </tr>\n",
       "    <tr>\n",
       "      <th>4</th>\n",
       "      <td>ADDRESS</td>\n",
       "      <td>BROOKLYN</td>\n",
       "      <td>BROOKLYN</td>\n",
       "      <td>2016-12-25 12:00:40</td>\n",
       "      <td>SAFETY</td>\n",
       "      <td>2016-12-05 07:57:43</td>\n",
       "      <td>613 EAST   16 STREET</td>\n",
       "      <td>11226</td>\n",
       "      <td>40.63524639332685</td>\n",
       "      <td>RESIDENTIAL BUILDING</td>\n",
       "      <td>-73.96233833617003</td>\n",
       "      <td>ONLINE</td>\n",
       "      <td>The Department of Housing Preservation and Development inspected the following conditions. No violations were issued. The complaint has been closed.</td>\n",
       "      <td>Closed</td>\n",
       "      <td>EAST   16 STREET</td>\n",
       "      <td>34931773</td>\n",
       "    </tr>\n",
       "  </tbody>\n",
       "</table>\n",
       "</div>"
      ],
      "text/plain": [
       "  address_type    borough           city         closed_date complaint_type  \\\n",
       "0      ADDRESS  MANHATTAN       NEW YORK 2016-12-23 16:03:22      APPLIANCE   \n",
       "1      ADDRESS     QUEENS  Richmond Hill 2017-02-24 11:14:57    DOOR/WINDOW   \n",
       "2      ADDRESS   BROOKLYN       BROOKLYN 2016-12-20 12:37:56    DOOR/WINDOW   \n",
       "3      ADDRESS  MANHATTAN       NEW YORK 2016-12-20 10:54:18    DOOR/WINDOW   \n",
       "4      ADDRESS   BROOKLYN       BROOKLYN 2016-12-25 12:00:40         SAFETY   \n",
       "\n",
       "         created_date      incident_address incident_zip           latitude  \\\n",
       "0 2016-12-05 16:13:38         4530 BROADWAY        10040  40.85866294920167   \n",
       "1 2016-12-05 20:43:42      86-41 127 STREET        11418  40.70243106364418   \n",
       "2 2016-12-05 14:59:24   788 NEW LOTS AVENUE        11208  40.66695397398726   \n",
       "3 2016-12-05 16:40:33  153 MANHATTAN AVENUE        10025  40.79942645281985   \n",
       "4 2016-12-05 07:57:43  613 EAST   16 STREET        11226  40.63524639332685   \n",
       "\n",
       "          location_type           longitude open_data_channel_type  \\\n",
       "0  RESIDENTIAL BUILDING  -73.93162121628747                  PHONE   \n",
       "1  RESIDENTIAL BUILDING  -73.82410319660279                  PHONE   \n",
       "2  RESIDENTIAL BUILDING  -73.88132717448943                  PHONE   \n",
       "3  RESIDENTIAL BUILDING  -73.96092712820946                  PHONE   \n",
       "4  RESIDENTIAL BUILDING  -73.96233833617003                 ONLINE   \n",
       "\n",
       "                                                                                                                                                                                                                                resolution_description  \\\n",
       "0  The Department of Housing Preservation and Development contacted an occupant of the apartment and verified that the following conditions were corrected. The complaint has been closed. If the condition still exists, please file a new complaint.   \n",
       "1                                                            The Department of Housing Preservation and Development inspected the following conditions. Violations were issued. Information about specific violations is available at www.nyc.gov/hpd.   \n",
       "2                                                                                                 The Department of Housing Preservation and Development inspected the following conditions. No violations were issued. The complaint has been closed.   \n",
       "3                                                                                                 The Department of Housing Preservation and Development inspected the following conditions. No violations were issued. The complaint has been closed.   \n",
       "4                                                                                                 The Department of Housing Preservation and Development inspected the following conditions. No violations were issued. The complaint has been closed.   \n",
       "\n",
       "   status       street_name  unique_key  \n",
       "0  Closed          BROADWAY    34931759  \n",
       "1  Closed        127 STREET    34931760  \n",
       "2  Closed   NEW LOTS AVENUE    34931765  \n",
       "3  Closed  MANHATTAN AVENUE    34931771  \n",
       "4  Closed  EAST   16 STREET    34931773  "
      ]
     },
     "execution_count": 12,
     "metadata": {},
     "output_type": "execute_result"
    }
   ],
   "source": [
    "df_complaint.head(5)"
   ]
  },
  {
   "cell_type": "code",
   "execution_count": 13,
   "metadata": {},
   "outputs": [],
   "source": [
    "df_complaint['created_year'] = df_complaint['created_date'].map(lambda x: x.strftime('%Y')).astype(int)"
   ]
  },
  {
   "cell_type": "code",
   "execution_count": 14,
   "metadata": {},
   "outputs": [],
   "source": [
    "df_complaint['created_month'] = df_complaint['created_date'].map(lambda x: x.strftime('%m')).astype(int)"
   ]
  },
  {
   "cell_type": "code",
   "execution_count": 15,
   "metadata": {},
   "outputs": [
    {
     "name": "stdout",
     "output_type": "stream",
     "text": [
      "<class 'pandas.core.frame.DataFrame'>\n",
      "RangeIndex: 5473244 entries, 0 to 5473243\n",
      "Data columns (total 18 columns):\n",
      "address_type              object\n",
      "borough                   object\n",
      "city                      object\n",
      "closed_date               datetime64[ns]\n",
      "complaint_type            object\n",
      "created_date              datetime64[ns]\n",
      "incident_address          object\n",
      "incident_zip              object\n",
      "latitude                  object\n",
      "location_type             object\n",
      "longitude                 object\n",
      "open_data_channel_type    object\n",
      "resolution_description    object\n",
      "status                    object\n",
      "street_name               object\n",
      "unique_key                int64\n",
      "created_year              int64\n",
      "created_month             int64\n",
      "dtypes: datetime64[ns](2), int64(3), object(13)\n",
      "memory usage: 751.6+ MB\n"
     ]
    }
   ],
   "source": [
    "df_complaint.info()"
   ]
  },
  {
   "cell_type": "code",
   "execution_count": 16,
   "metadata": {},
   "outputs": [
    {
     "data": {
      "text/plain": [
       "<matplotlib.axes._subplots.AxesSubplot at 0x2ba0327787b8>"
      ]
     },
     "execution_count": 16,
     "metadata": {},
     "output_type": "execute_result"
    },
    {
     "data": {
      "image/png": "[encoded data removed]",
      "text/plain": [
       "<Figure size 1080x504 with 1 Axes>"
      ]
     },
     "metadata": {},
     "output_type": "display_data"
    }
   ],
   "source": [
    "fig, ax = plt.subplots(figsize=(15,7))\n",
    "df_complaint.groupby(['created_year', 'complaint_type']).count()['unique_key'].unstack().plot(ax=ax)"
   ]
  },
  {
   "cell_type": "markdown",
   "metadata": {},
   "source": [
    "### The above chart proves that The combined Heating and Hets/Hot Water Complaint type is surely the highest one among all complaint types. In recent years the number of complaints of this type is around two times more than the next highest one (General Construction)."
   ]
  },
  {
   "cell_type": "code",
   "execution_count": 2,
   "metadata": {},
   "outputs": [
    {
     "ename": "NameError",
     "evalue": "name 'plt' is not defined",
     "output_type": "error",
     "traceback": [
      "\u001b[1;31m---------------------------------------------------------------------------\u001b[0m",
      "\u001b[1;31mNameError\u001b[0m                                 Traceback (most recent call last)",
      "\u001b[1;32m<ipython-input-2-644785344b00>\u001b[0m in \u001b[0;36m<module>\u001b[1;34m\u001b[0m\n\u001b[1;32m----> 1\u001b[1;33m \u001b[0mfig\u001b[0m\u001b[1;33m,\u001b[0m \u001b[0max\u001b[0m \u001b[1;33m=\u001b[0m \u001b[0mplt\u001b[0m\u001b[1;33m.\u001b[0m\u001b[0msubplots\u001b[0m\u001b[1;33m(\u001b[0m\u001b[0mfigsize\u001b[0m\u001b[1;33m=\u001b[0m\u001b[1;33m(\u001b[0m\u001b[1;36m19\u001b[0m\u001b[1;33m,\u001b[0m\u001b[1;36m7\u001b[0m\u001b[1;33m)\u001b[0m\u001b[1;33m)\u001b[0m\u001b[1;33m\u001b[0m\u001b[1;33m\u001b[0m\u001b[0m\n\u001b[0m\u001b[0;32m      2\u001b[0m \u001b[0mdf_complaint\u001b[0m\u001b[1;33m[\u001b[0m\u001b[0mdf_complaint\u001b[0m\u001b[1;33m[\u001b[0m\u001b[1;34m'created_month'\u001b[0m\u001b[1;33m]\u001b[0m\u001b[1;33m.\u001b[0m\u001b[0misin\u001b[0m\u001b[1;33m(\u001b[0m\u001b[1;33m[\u001b[0m\u001b[1;36m11\u001b[0m\u001b[1;33m,\u001b[0m \u001b[1;36m12\u001b[0m\u001b[1;33m,\u001b[0m\u001b[1;36m1\u001b[0m\u001b[1;33m]\u001b[0m\u001b[1;33m)\u001b[0m\u001b[1;33m]\u001b[0m\u001b[1;33m.\u001b[0m\u001b[0mgroupby\u001b[0m\u001b[1;33m(\u001b[0m\u001b[1;33m[\u001b[0m\u001b[1;34m'created_year'\u001b[0m\u001b[1;33m,\u001b[0m \u001b[1;34m'complaint_type'\u001b[0m\u001b[1;33m]\u001b[0m\u001b[1;33m)\u001b[0m\u001b[1;33m.\u001b[0m\u001b[0mcount\u001b[0m\u001b[1;33m(\u001b[0m\u001b[1;33m)\u001b[0m\u001b[1;33m[\u001b[0m\u001b[1;34m'unique_key'\u001b[0m\u001b[1;33m]\u001b[0m\u001b[1;33m.\u001b[0m\u001b[0munstack\u001b[0m\u001b[1;33m(\u001b[0m\u001b[1;33m)\u001b[0m\u001b[1;33m.\u001b[0m\u001b[0mplot\u001b[0m\u001b[1;33m.\u001b[0m\u001b[0mbar\u001b[0m\u001b[1;33m(\u001b[0m\u001b[0max\u001b[0m\u001b[1;33m=\u001b[0m\u001b[0max\u001b[0m\u001b[1;33m)\u001b[0m\u001b[1;33m\u001b[0m\u001b[1;33m\u001b[0m\u001b[0m\n",
      "\u001b[1;31mNameError\u001b[0m: name 'plt' is not defined"
     ]
    }
   ],
   "source": [
    "fig, ax = plt.subplots(figsize=(19,7))\n",
    "df_complaint[df_complaint['created_month'].isin([11, 12,1])].groupby(['created_year', 'complaint_type']).count()['unique_key'].unstack().plot.bar(ax=ax)"
   ]
  },
  {
   "cell_type": "markdown",
   "metadata": {
    "collapsed": true
   },
   "source": [
    "### The above chart proves that though there may be little drop in total Heating problem counts from 2016 to 2017 (2018 does not have all data as of this notebook is created) if we consider the winter months together the number of heating complaints are still increasing between 2015 and 2016 and almost same between 2016 and 2017"
   ]
  },
  {
   "cell_type": "markdown",
   "metadata": {
    "collapsed": true
   },
   "source": [
    "## Concluding Remarks - Given the above analysis it makes sense for the Department of Housing Preservation and Development in New York City to first focus on solving Heating complaints among other NYC 311 complaint types"
   ]
  },
  {
   "cell_type": "code",
   "execution_count": 18,
   "metadata": {},
   "outputs": [],
   "source": [
    "df_ht_complaint = df_complaint[df_complaint['complaint_type'] == 'HEAT/HOT WATER']"
   ]
  },
  {
   "cell_type": "code",
   "execution_count": 19,
   "metadata": {},
   "outputs": [
    {
     "name": "stdout",
     "output_type": "stream",
     "text": [
      "<class 'pandas.core.frame.DataFrame'>\n",
      "Int64Index: 1895752 entries, 13 to 5473241\n",
      "Data columns (total 18 columns):\n",
      "address_type              object\n",
      "borough                   object\n",
      "city                      object\n",
      "closed_date               datetime64[ns]\n",
      "complaint_type            object\n",
      "created_date              datetime64[ns]\n",
      "incident_address          object\n",
      "incident_zip              object\n",
      "latitude                  object\n",
      "location_type             object\n",
      "longitude                 object\n",
      "open_data_channel_type    object\n",
      "resolution_description    object\n",
      "status                    object\n",
      "street_name               object\n",
      "unique_key                int64\n",
      "created_year              int64\n",
      "created_month             int64\n",
      "dtypes: datetime64[ns](2), int64(3), object(13)\n",
      "memory usage: 274.8+ MB\n"
     ]
    }
   ],
   "source": [
    "df_ht_complaint.info()"
   ]
  },
  {
   "cell_type": "markdown",
   "metadata": {
    "collapsed": true
   },
   "source": [
    "#### Saving the work from this notebook"
   ]
  },
  {
   "cell_type": "code",
   "execution_count": 20,
   "metadata": {},
   "outputs": [],
   "source": [
    "df_ht_complaint.to_pickle('./DataFromNoteBookQ1.pkl')"
   ]
  },
  {
   "cell_type": "code",
   "execution_count": 22,
   "metadata": {},
   "outputs": [],
   "source": [
    "client_4583a2827cdd4084aebc758e0b87cb12.upload_file('./DataFromNoteBookQ1.pkl',bucket,'DataFromNoteBookQ1_cos.pkl')"
   ]
  }
 ],
 "metadata": {
  "kernelspec": {
   "display_name": "Python 3",
   "language": "python",
   "name": "python3"
  },
  "language_info": {
   "codemirror_mode": {
    "name": "ipython",
    "version": 3
   },
   "file_extension": ".py",
   "mimetype": "text/x-python",
   "name": "python",
   "nbconvert_exporter": "python",
   "pygments_lexer": "ipython3",
   "version": "3.7.3"
  }
 },
 "nbformat": 4,
 "nbformat_minor": 2
}
