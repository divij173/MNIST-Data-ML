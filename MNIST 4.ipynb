{
 "cells": [
  {
   "cell_type": "code",
   "execution_count": 95,
   "metadata": {},
   "outputs": [
    {
     "name": "stdout",
     "output_type": "stream",
     "text": [
      "Requirement already up-to-date: pip in /opt/conda/envs/DSX-Python35/lib/python3.5/site-packages (18.1)\r\n"
     ]
    }
   ],
   "source": [
    "!pip install --upgrade pip"
   ]
  },
  {
   "cell_type": "code",
   "execution_count": 96,
   "metadata": {},
   "outputs": [
    {
     "name": "stdout",
     "output_type": "stream",
     "text": [
      "Requirement already satisfied: missingno in /opt/conda/envs/DSX-Python35/lib/python3.5/site-packages (0.4.1)\n",
      "Requirement already satisfied: numpy in /opt/conda/envs/DSX-Python35/lib/python3.5/site-packages (from missingno) (1.13.3)\n",
      "Requirement already satisfied: seaborn in /opt/conda/envs/DSX-Python35/lib/python3.5/site-packages (from missingno) (0.8)\n",
      "Requirement already satisfied: matplotlib in /opt/conda/envs/DSX-Python35/lib/python3.5/site-packages (from missingno) (3.0.2)\n",
      "Requirement already satisfied: scipy in /opt/conda/envs/DSX-Python35/lib/python3.5/site-packages (from missingno) (1.0.0)\n",
      "Requirement already satisfied: pandas in /opt/conda/envs/DSX-Python35/lib/python3.5/site-packages (from seaborn->missingno) (0.21.0)\n",
      "Requirement already satisfied: cycler>=0.10 in /opt/conda/envs/DSX-Python35/lib/python3.5/site-packages (from matplotlib->missingno) (0.10.0)\n",
      "Requirement already satisfied: kiwisolver>=1.0.1 in /opt/conda/envs/DSX-Python35/lib/python3.5/site-packages (from matplotlib->missingno) (1.0.1)\n",
      "Requirement already satisfied: python-dateutil>=2.1 in /opt/conda/envs/DSX-Python35/lib/python3.5/site-packages (from matplotlib->missingno) (2.6.1)\n",
      "Requirement already satisfied: pyparsing!=2.0.4,!=2.1.2,!=2.1.6,>=2.0.1 in /opt/conda/envs/DSX-Python35/lib/python3.5/site-packages (from matplotlib->missingno) (2.2.0)\n",
      "Requirement already satisfied: pytz>=2011k in /opt/conda/envs/DSX-Python35/lib/python3.5/site-packages (from pandas->seaborn->missingno) (2018.3)\n",
      "Requirement already satisfied: six in /opt/conda/envs/DSX-Python35/lib/python3.5/site-packages (from cycler>=0.10->matplotlib->missingno) (1.11.0)\n",
      "Requirement already satisfied: setuptools in /opt/conda/envs/DSX-Python35/lib/python3.5/site-packages (from kiwisolver>=1.0.1->matplotlib->missingno) (36.5.0.post20170921)\n"
     ]
    }
   ],
   "source": [
    "!pip install missingno"
   ]
  },
  {
   "cell_type": "code",
   "execution_count": 98,
   "metadata": {},
   "outputs": [
    {
     "name": "stdout",
     "output_type": "stream",
     "text": [
      "Requirement already up-to-date: scikit-learn in /opt/conda/envs/DSX-Python35/lib/python3.5/site-packages (0.20.2)\n",
      "Requirement already satisfied, skipping upgrade: numpy>=1.8.2 in /opt/conda/envs/DSX-Python35/lib/python3.5/site-packages (from scikit-learn) (1.13.3)\n",
      "Requirement already satisfied, skipping upgrade: scipy>=0.13.3 in /opt/conda/envs/DSX-Python35/lib/python3.5/site-packages (from scikit-learn) (1.0.0)\n"
     ]
    }
   ],
   "source": [
    "!pip install --upgrade scikit-learn"
   ]
  },
  {
   "cell_type": "code",
   "execution_count": 99,
   "metadata": {},
   "outputs": [
    {
     "name": "stdout",
     "output_type": "stream",
     "text": [
      "Requirement already satisfied: xgboost==0.80 in /opt/conda/envs/DSX-Python35/lib/python3.5/site-packages (0.80)\r\n",
      "Requirement already satisfied: numpy in /opt/conda/envs/DSX-Python35/lib/python3.5/site-packages (from xgboost==0.80) (1.13.3)\r\n",
      "Requirement already satisfied: scipy in /opt/conda/envs/DSX-Python35/lib/python3.5/site-packages (from xgboost==0.80) (1.0.0)\r\n"
     ]
    }
   ],
   "source": [
    "!pip install xgboost==0.80"
   ]
  },
  {
   "cell_type": "code",
   "execution_count": 100,
   "metadata": {},
   "outputs": [
    {
     "name": "stdout",
     "output_type": "stream",
     "text": [
      "Requirement already satisfied: imblearn in /opt/conda/envs/DSX-Python35/lib/python3.5/site-packages (0.0)\n",
      "Requirement already satisfied: imbalanced-learn in /opt/conda/envs/DSX-Python35/lib/python3.5/site-packages (from imblearn) (0.4.3)\n",
      "Requirement already satisfied: numpy>=1.8.2 in /opt/conda/envs/DSX-Python35/lib/python3.5/site-packages (from imbalanced-learn->imblearn) (1.13.3)\n",
      "Requirement already satisfied: scikit-learn>=0.20 in /opt/conda/envs/DSX-Python35/lib/python3.5/site-packages (from imbalanced-learn->imblearn) (0.20.2)\n",
      "Requirement already satisfied: scipy>=0.13.3 in /opt/conda/envs/DSX-Python35/lib/python3.5/site-packages (from imbalanced-learn->imblearn) (1.0.0)\n"
     ]
    }
   ],
   "source": [
    "!pip install imblearn"
   ]
  },
  {
   "cell_type": "code",
   "execution_count": 101,
   "metadata": {},
   "outputs": [
    {
     "name": "stdout",
     "output_type": "stream",
     "text": [
      "Requirement already satisfied: TextBlob in /opt/conda/envs/DSX-Python35/lib/python3.5/site-packages (0.15.2)\n",
      "Requirement already satisfied: nltk>=3.1 in /opt/conda/envs/DSX-Python35/lib/python3.5/site-packages (from TextBlob) (3.2.4)\n",
      "Requirement already satisfied: six in /opt/conda/envs/DSX-Python35/lib/python3.5/site-packages (from nltk>=3.1->TextBlob) (1.11.0)\n"
     ]
    }
   ],
   "source": [
    "!pip install TextBlob"
   ]
  },
  {
   "cell_type": "code",
   "execution_count": 102,
   "metadata": {},
   "outputs": [],
   "source": [
    "import matplotlib.pyplot as plt\n",
    "import pandas as pd\n",
    "import numpy as np\n",
    "import scipy as sp\n",
    "import zipfile, requests, io, os, sys, types, time\n",
    "import seaborn as sns\n",
    "import matplotlib.cm as cm\n",
    "import statsmodels.api as sm\n",
    "import itertools\n",
    "import matplotlib\n",
    "from sklearn.preprocessing import MinMaxScaler\n",
    "from sklearn.preprocessing import StandardScaler\n",
    "from sklearn.preprocessing import Normalizer\n",
    "from sklearn.preprocessing import Binarizer\n",
    "matplotlib.rcParams['axes.labelsize'] = 14\n",
    "matplotlib.rcParams['xtick.labelsize'] = 12\n",
    "matplotlib.rcParams['ytick.labelsize'] = 12\n",
    "matplotlib.rcParams['text.color'] = 'k'\n",
    "\n",
    "\n",
    "from scipy import stats\n",
    "from scipy.stats import norm, skew \n",
    "\n",
    "from sklearn.pipeline import Pipeline\n",
    "from sklearn.model_selection import train_test_split\n",
    "import seaborn as sns\n",
    "\n",
    "\n",
    "from sklearn.model_selection import train_test_split, KFold, cross_val_score, cross_val_predict\n",
    "from sklearn.linear_model import Lasso\n",
    "from sklearn.ensemble import RandomForestRegressor\n",
    "#import lightgbm as lgb\n",
    "from xgboost import XGBRegressor\n",
    "\n",
    "from sklearn.preprocessing import RobustScaler, StandardScaler, MaxAbsScaler\n",
    "from sklearn.metrics import mean_squared_error\n",
    "\n",
    "\n",
    "from dateutil import parser, rrule\n",
    "from datetime import datetime, time, date\n",
    "from sklearn.ensemble import RandomForestClassifier\n",
    "from sklearn.metrics import mean_squared_error, r2_score, precision_score, \\\n",
    "    recall_score, confusion_matrix, classification_report, \\\n",
    "    accuracy_score, f1_score\n",
    "\n",
    "from sklearn.linear_model import LogisticRegression\n",
    "from imblearn.over_sampling import SMOTE\n",
    "\n",
    "from IPython.display import display\n",
    "%matplotlib inline\n",
    "\n",
    "pd.options.display.float_format = '{:20,.3f}'.format\n",
    "pd.options.display.max_columns = None\n",
    "pd.options.display.max_colwidth = 1000\n",
    "np.set_printoptions(precision=3)"
   ]
  },
  {
   "cell_type": "code",
   "execution_count": 109,
   "metadata": {},
   "outputs": [],
   "source": [
    "client_4583a2827cdd4084aebc758e0b87cb12.download_file(Bucket=bucket,Key='pluto_bx_raw_cos.pkl',Filename='./pluto_bx_raw_local.pkl')"
   ]
  },
  {
   "cell_type": "code",
   "execution_count": 110,
   "metadata": {},
   "outputs": [
    {
     "data": {
      "text/plain": [
       "(89854, 87)"
      ]
     },
     "execution_count": 110,
     "metadata": {},
     "output_type": "execute_result"
    }
   ],
   "source": [
    "df_bx = pd.read_pickle('./pluto_bx_raw_local.pkl')\n",
    "df_bx.shape"
   ]
  },
  {
   "cell_type": "code",
   "execution_count": 111,
   "metadata": {},
   "outputs": [
    {
     "name": "stdout",
     "output_type": "stream",
     "text": [
      "<class 'pandas.core.frame.DataFrame'>\n",
      "RangeIndex: 89854 entries, 0 to 89853\n",
      "Data columns (total 87 columns):\n",
      "Borough                 89854 non-null object\n",
      "Block                   89854 non-null int64\n",
      "Lot                     89854 non-null int64\n",
      "CD                      89854 non-null int64\n",
      "CT2010                  89447 non-null float64\n",
      "CB2010                  87342 non-null float64\n",
      "SchoolDist              89695 non-null float64\n",
      "Council                 89649 non-null float64\n",
      "ZipCode                 89525 non-null float64\n",
      "FireComp                89568 non-null object\n",
      "PolicePrct              89692 non-null float64\n",
      "HealthCenterDistrict    89727 non-null float64\n",
      "HealthArea              89630 non-null float64\n",
      "SanitBoro               89235 non-null float64\n",
      "SanitDistrict           89238 non-null float64\n",
      "SanitSub                88789 non-null object\n",
      "Address                 89785 non-null object\n",
      "ZoneDist1               89795 non-null object\n",
      "ZoneDist2               2553 non-null object\n",
      "ZoneDist3               34 non-null object\n",
      "ZoneDist4               2 non-null object\n",
      "Overlay1                8827 non-null object\n",
      "Overlay2                96 non-null object\n",
      "SPDist1                 4602 non-null object\n",
      "SPDist2                 0 non-null float64\n",
      "SPDist3                 0 non-null float64\n",
      "LtdHeight               0 non-null float64\n",
      "SplitZone               89788 non-null object\n",
      "BldgClass               89788 non-null object\n",
      "LandUse                 89440 non-null float64\n",
      "Easements               89854 non-null int64\n",
      "OwnerType               16374 non-null object\n",
      "OwnerName               89280 non-null object\n",
      "LotArea                 89854 non-null int64\n",
      "BldgArea                89854 non-null int64\n",
      "ComArea                 89854 non-null int64\n",
      "ResArea                 89854 non-null int64\n",
      "OfficeArea              89854 non-null int64\n",
      "RetailArea              89854 non-null int64\n",
      "GarageArea              89854 non-null int64\n",
      "StrgeArea               89854 non-null int64\n",
      "FactryArea              89854 non-null int64\n",
      "OtherArea               89854 non-null int64\n",
      "AreaSource              89854 non-null int64\n",
      "NumBldgs                89854 non-null int64\n",
      "NumFloors               89854 non-null float64\n",
      "UnitsRes                89854 non-null int64\n",
      "UnitsTotal              89854 non-null int64\n",
      "LotFront                89854 non-null float64\n",
      "LotDepth                89854 non-null float64\n",
      "BldgFront               89854 non-null float64\n",
      "BldgDepth               89854 non-null float64\n",
      "Ext                     29034 non-null object\n",
      "ProxCode                89788 non-null float64\n",
      "IrrLotCode              89788 non-null object\n",
      "LotType                 89788 non-null float64\n",
      "BsmtCode                89788 non-null float64\n",
      "AssessLand              89854 non-null int64\n",
      "AssessTot               89854 non-null int64\n",
      "ExemptLand              89854 non-null int64\n",
      "ExemptTot               89854 non-null int64\n",
      "YearBuilt               89854 non-null int64\n",
      "YearAlter1              89854 non-null int64\n",
      "YearAlter2              89854 non-null int64\n",
      "HistDist                854 non-null object\n",
      "Landmark                111 non-null object\n",
      "BuiltFAR                89854 non-null float64\n",
      "ResidFAR                89854 non-null float64\n",
      "CommFAR                 89854 non-null float64\n",
      "FacilFAR                89854 non-null float64\n",
      "BoroCode                89854 non-null int64\n",
      "BBL                     89854 non-null int64\n",
      "CondoNo                 89854 non-null int64\n",
      "Tract2010               89854 non-null int64\n",
      "XCoord                  86595 non-null float64\n",
      "YCoord                  86595 non-null float64\n",
      "ZoneMap                 89817 non-null object\n",
      "ZMCode                  1688 non-null object\n",
      "Sanborn                 89735 non-null object\n",
      "TaxMap                  89735 non-null float64\n",
      "EDesigNum               1470 non-null object\n",
      "APPBBL                  89788 non-null float64\n",
      "APPDate                 10969 non-null object\n",
      "PLUTOMapID              89854 non-null int64\n",
      "FIRM07_FLAG             3511 non-null float64\n",
      "PFIRM15_FLAG            3332 non-null float64\n",
      "Version                 89854 non-null object\n",
      "dtypes: float64(32), int64(30), object(25)\n",
      "memory usage: 59.6+ MB\n"
     ]
    }
   ],
   "source": [
    "df_bx.info()"
   ]
  },
  {
   "cell_type": "code",
   "execution_count": 112,
   "metadata": {},
   "outputs": [],
   "source": [
    "df_bx = df_bx[['Address','BldgArea','BldgDepth','BuiltFAR',\n",
    "                'CommFAR','FacilFAR', \n",
    "                'Lot','LotArea','LotDepth','NumBldgs','NumFloors',\n",
    "                'OfficeArea','ResArea','ResidFAR','RetailArea',\n",
    "                'YearBuilt','YearAlter1','ZipCode', 'YCoord', 'XCoord'\n",
    "                ]]"
   ]
  },
  {
   "cell_type": "code",
   "execution_count": 113,
   "metadata": {},
   "outputs": [
    {
     "data": {
      "text/html": [
       "<div>\n",
       "<style scoped>\n",
       "    .dataframe tbody tr th:only-of-type {\n",
       "        vertical-align: middle;\n",
       "    }\n",
       "\n",
       "    .dataframe tbody tr th {\n",
       "        vertical-align: top;\n",
       "    }\n",
       "\n",
       "    .dataframe thead th {\n",
       "        text-align: right;\n",
       "    }\n",
       "</style>\n",
       "<table border=\"1\" class=\"dataframe\">\n",
       "  <thead>\n",
       "    <tr style=\"text-align: right;\">\n",
       "      <th></th>\n",
       "      <th>Address</th>\n",
       "      <th>BldgArea</th>\n",
       "      <th>BldgDepth</th>\n",
       "      <th>BuiltFAR</th>\n",
       "      <th>CommFAR</th>\n",
       "      <th>FacilFAR</th>\n",
       "      <th>Lot</th>\n",
       "      <th>LotArea</th>\n",
       "      <th>LotDepth</th>\n",
       "      <th>NumBldgs</th>\n",
       "      <th>NumFloors</th>\n",
       "      <th>OfficeArea</th>\n",
       "      <th>ResArea</th>\n",
       "      <th>ResidFAR</th>\n",
       "      <th>RetailArea</th>\n",
       "      <th>YearBuilt</th>\n",
       "      <th>YearAlter1</th>\n",
       "      <th>ZipCode</th>\n",
       "      <th>YCoord</th>\n",
       "      <th>XCoord</th>\n",
       "    </tr>\n",
       "  </thead>\n",
       "  <tbody>\n",
       "    <tr>\n",
       "      <th>0</th>\n",
       "      <td>122 BRUCKNER BOULEVARD</td>\n",
       "      <td>0</td>\n",
       "      <td>0.000</td>\n",
       "      <td>0.000</td>\n",
       "      <td>5.000</td>\n",
       "      <td>6.500</td>\n",
       "      <td>1</td>\n",
       "      <td>15000</td>\n",
       "      <td>200.000</td>\n",
       "      <td>1</td>\n",
       "      <td>0.000</td>\n",
       "      <td>0</td>\n",
       "      <td>0</td>\n",
       "      <td>6.020</td>\n",
       "      <td>0</td>\n",
       "      <td>0</td>\n",
       "      <td>0</td>\n",
       "      <td>10,454.000</td>\n",
       "      <td>232,162.000</td>\n",
       "      <td>1,005,957.000</td>\n",
       "    </tr>\n",
       "    <tr>\n",
       "      <th>1</th>\n",
       "      <td>126 BRUCKNER BOULEVARD</td>\n",
       "      <td>752</td>\n",
       "      <td>16.000</td>\n",
       "      <td>0.050</td>\n",
       "      <td>5.000</td>\n",
       "      <td>6.500</td>\n",
       "      <td>4</td>\n",
       "      <td>13770</td>\n",
       "      <td>100.000</td>\n",
       "      <td>2</td>\n",
       "      <td>1.000</td>\n",
       "      <td>272</td>\n",
       "      <td>0</td>\n",
       "      <td>6.020</td>\n",
       "      <td>0</td>\n",
       "      <td>1931</td>\n",
       "      <td>1994</td>\n",
       "      <td>10,454.000</td>\n",
       "      <td>232,156.000</td>\n",
       "      <td>1,006,076.000</td>\n",
       "    </tr>\n",
       "  </tbody>\n",
       "</table>\n",
       "</div>"
      ],
      "text/plain": [
       "                  Address  BldgArea            BldgDepth             BuiltFAR  \\\n",
       "0  122 BRUCKNER BOULEVARD         0                0.000                0.000   \n",
       "1  126 BRUCKNER BOULEVARD       752               16.000                0.050   \n",
       "\n",
       "               CommFAR             FacilFAR  Lot  LotArea  \\\n",
       "0                5.000                6.500    1    15000   \n",
       "1                5.000                6.500    4    13770   \n",
       "\n",
       "              LotDepth  NumBldgs            NumFloors  OfficeArea  ResArea  \\\n",
       "0              200.000         1                0.000           0        0   \n",
       "1              100.000         2                1.000         272        0   \n",
       "\n",
       "              ResidFAR  RetailArea  YearBuilt  YearAlter1  \\\n",
       "0                6.020           0          0           0   \n",
       "1                6.020           0       1931        1994   \n",
       "\n",
       "               ZipCode               YCoord               XCoord  \n",
       "0           10,454.000          232,162.000        1,005,957.000  \n",
       "1           10,454.000          232,156.000        1,006,076.000  "
      ]
     },
     "execution_count": 113,
     "metadata": {},
     "output_type": "execute_result"
    }
   ],
   "source": [
    "df_bx.head(2)"
   ]
  },
  {
   "cell_type": "code",
   "execution_count": 114,
   "metadata": {
    "scrolled": true
   },
   "outputs": [],
   "source": [
    "df_bx['ZipCode']              = df_bx['ZipCode'].fillna(0).astype(int)\n",
    "df_bx['NumFloors']            = df_bx['NumFloors'].fillna(0).astype(int)\n",
    "df_bx['NumBldgs']             = df_bx['NumBldgs'].fillna(0).astype(int)\n",
    "df_bx['LotDepth']             = df_bx['LotDepth'].fillna(0).astype(int)\n",
    "df_bx['BldgDepth']            = df_bx['BldgDepth'].fillna(0).astype(int)\n",
    "df_bx['BldgArea']             = df_bx['BldgArea'].fillna(0).astype(int)\n",
    "df_bx['Lot']                  = df_bx['Lot'].fillna(0).astype(int)\n",
    "df_bx['LotArea']              = df_bx['LotArea'].fillna(0).astype(int)\n",
    "df_bx['BuiltFAR']             = df_bx['BuiltFAR'].fillna(0).astype(int)\n",
    "df_bx['ResidFAR']             = df_bx['ResidFAR'].fillna(0).astype(int)\n",
    "df_bx['CommFAR']              = df_bx['CommFAR'].fillna(0).astype(int)\n",
    "df_bx['FacilFAR']             = df_bx['FacilFAR'].fillna(0).astype(int)\n",
    "df_bx['OfficeArea']           = df_bx['OfficeArea'].fillna(0).astype(int)\n",
    "df_bx['ResArea']              = df_bx['ResArea'].fillna(0).astype(int)\n",
    "df_bx['RetailArea']           = df_bx['RetailArea'].fillna(0).astype(int)\n",
    "df_bx['XCoord']               = df_bx['XCoord'].fillna(0).astype(int)\n",
    "df_bx['YCoord']               = df_bx['YCoord'].fillna(0).astype(int)"
   ]
  },
  {
   "cell_type": "code",
   "execution_count": 115,
   "metadata": {},
   "outputs": [],
   "source": [
    "client_4583a2827cdd4084aebc758e0b87cb12.download_file(Bucket=bucket,Key='DataFromNoteBookQ2_cos.pkl',Filename='./DataFromNoteBookQ2_local.pkl')"
   ]
  },
  {
   "cell_type": "code",
   "execution_count": 116,
   "metadata": {},
   "outputs": [
    {
     "data": {
      "text/plain": [
       "(520749, 19)"
      ]
     },
     "execution_count": 116,
     "metadata": {},
     "output_type": "execute_result"
    }
   ],
   "source": [
    "df_complaint = pd.read_pickle('./DataFromNoteBookQ2_local.pkl')\n",
    "df_complaint.shape"
   ]
  },
  {
   "cell_type": "markdown",
   "metadata": {},
   "source": [
    "#### Removing Duplicates"
   ]
  },
  {
   "cell_type": "code",
   "execution_count": 117,
   "metadata": {},
   "outputs": [
    {
     "name": "stdout",
     "output_type": "stream",
     "text": [
      "(89785, 20)\n",
      "(87384, 20)\n"
     ]
    }
   ],
   "source": [
    "df_pluto_bx = df_bx[df_bx['Address'].notnull()]\n",
    "print(df_pluto_bx.shape)\n",
    "df_pluto_bx = df_pluto_bx.drop_duplicates(subset=['Address','ZipCode'], keep='first') #or last\n",
    "print(df_pluto_bx.shape)"
   ]
  },
  {
   "cell_type": "markdown",
   "metadata": {},
   "source": [
    "#### We first aggregare the cimplaint data at address, year and month level"
   ]
  },
  {
   "cell_type": "code",
   "execution_count": 118,
   "metadata": {},
   "outputs": [],
   "source": [
    "df_complaint_aggr = df_complaint.groupby(['created_year', 'created_month', 'incident_address'], as_index=False).agg({'unique_key':'count'})\n",
    "df_complaint_aggr.columns = [\"created_yr\",\"created_mnth\", \"Address\", \"complaintCnt\"]"
   ]
  },
  {
   "cell_type": "code",
   "execution_count": 119,
   "metadata": {},
   "outputs": [],
   "source": [
    "mnthdata = [1,2,3,4,5,6,7,8,9,10,11,12]\n",
    "df_mnth = pd.DataFrame(mnthdata)\n",
    "df_mnth.columns = [\"mnth\"]"
   ]
  },
  {
   "cell_type": "code",
   "execution_count": 120,
   "metadata": {},
   "outputs": [
    {
     "name": "stdout",
     "output_type": "stream",
     "text": [
      "<class 'pandas.core.frame.DataFrame'>\n",
      "RangeIndex: 12 entries, 0 to 11\n",
      "Data columns (total 1 columns):\n",
      "mnth    12 non-null int64\n",
      "dtypes: int64(1)\n",
      "memory usage: 176.0 bytes\n"
     ]
    }
   ],
   "source": [
    "df_mnth.info()"
   ]
  },
  {
   "cell_type": "code",
   "execution_count": 121,
   "metadata": {},
   "outputs": [
    {
     "data": {
      "text/plain": [
       "(1048608, 21)"
      ]
     },
     "execution_count": 121,
     "metadata": {},
     "output_type": "execute_result"
    }
   ],
   "source": [
    "df_bx_mnth = pd.merge(df_pluto_bx.assign(key='x'), df_mnth.assign(key='x'), on='key').drop('key', 1)\n",
    "df_bx_mnth.shape"
   ]
  },
  {
   "cell_type": "code",
   "execution_count": 122,
   "metadata": {},
   "outputs": [],
   "source": [
    "yrdata = [2013,2014,2015,2016,2017,2018]\n",
    "df_yr = pd.DataFrame(yrdata)\n",
    "df_yr.columns = [\"yr\"]"
   ]
  },
  {
   "cell_type": "code",
   "execution_count": 123,
   "metadata": {},
   "outputs": [
    {
     "data": {
      "text/plain": [
       "(6291648, 22)"
      ]
     },
     "execution_count": 123,
     "metadata": {},
     "output_type": "execute_result"
    }
   ],
   "source": [
    "df_bx = pd.merge(df_bx_mnth.assign(key='x'), df_yr.assign(key='x'), on='key').drop('key', 1)\n",
    "df_bx.shape"
   ]
  },
  {
   "cell_type": "code",
   "execution_count": 124,
   "metadata": {},
   "outputs": [
    {
     "name": "stdout",
     "output_type": "stream",
     "text": [
      "<class 'pandas.core.frame.DataFrame'>\n",
      "Int64Index: 153473 entries, 0 to 153472\n",
      "Data columns (total 4 columns):\n",
      "created_yr      153473 non-null int64\n",
      "created_mnth    153473 non-null int64\n",
      "Address         153473 non-null object\n",
      "complaintCnt    153473 non-null int64\n",
      "dtypes: int64(3), object(1)\n",
      "memory usage: 5.9+ MB\n"
     ]
    }
   ],
   "source": [
    "df_complaint_aggr.info()"
   ]
  },
  {
   "cell_type": "code",
   "execution_count": 125,
   "metadata": {},
   "outputs": [
    {
     "data": {
      "text/plain": [
       "(121169, 4)"
      ]
     },
     "execution_count": 125,
     "metadata": {},
     "output_type": "execute_result"
    }
   ],
   "source": [
    "df_complaint_12to17_aggr = df_complaint_aggr[df_complaint_aggr['created_yr'].isin([2012,2013,2014,2015,2016, 2017])]\n",
    "df_complaint_12to17_aggr.shape"
   ]
  },
  {
   "cell_type": "markdown",
   "metadata": {},
   "source": [
    "# <font color=\"maroon\">Join PLUTO and Complaint dataset based on address, month and year</font>"
   ]
  },
  {
   "cell_type": "code",
   "execution_count": 29,
   "metadata": {},
   "outputs": [
    {
     "name": "stdout",
     "output_type": "stream",
     "text": [
      "(6291648, 25)\n",
      "(121169, 4)\n",
      "(6291648, 22)\n"
     ]
    }
   ],
   "source": [
    "df_combo = pd.merge(df_bx, df_complaint_12to17_aggr, left_on=['Address', 'mnth', 'yr'], right_on=['Address','created_mnth', 'created_yr'], how='left')\n",
    "print(df_combo.shape)\n",
    "print(df_complaint_12to17_aggr.shape)\n",
    "print(df_bx.shape)"
   ]
  },
  {
   "cell_type": "code",
   "execution_count": 30,
   "metadata": {},
   "outputs": [
    {
     "data": {
      "text/html": [
       "<div>\n",
       "<style scoped>\n",
       "    .dataframe tbody tr th:only-of-type {\n",
       "        vertical-align: middle;\n",
       "    }\n",
       "\n",
       "    .dataframe tbody tr th {\n",
       "        vertical-align: top;\n",
       "    }\n",
       "\n",
       "    .dataframe thead th {\n",
       "        text-align: right;\n",
       "    }\n",
       "</style>\n",
       "<table border=\"1\" class=\"dataframe\">\n",
       "  <thead>\n",
       "    <tr style=\"text-align: right;\">\n",
       "      <th></th>\n",
       "      <th>Address</th>\n",
       "      <th>BldgArea</th>\n",
       "      <th>BldgDepth</th>\n",
       "      <th>BuiltFAR</th>\n",
       "      <th>CommFAR</th>\n",
       "      <th>FacilFAR</th>\n",
       "      <th>Lot</th>\n",
       "      <th>LotArea</th>\n",
       "      <th>LotDepth</th>\n",
       "      <th>NumBldgs</th>\n",
       "      <th>NumFloors</th>\n",
       "      <th>OfficeArea</th>\n",
       "      <th>ResArea</th>\n",
       "      <th>ResidFAR</th>\n",
       "      <th>RetailArea</th>\n",
       "      <th>YearBuilt</th>\n",
       "      <th>YearAlter1</th>\n",
       "      <th>ZipCode</th>\n",
       "      <th>YCoord</th>\n",
       "      <th>XCoord</th>\n",
       "      <th>mnth</th>\n",
       "      <th>yr</th>\n",
       "      <th>created_yr</th>\n",
       "      <th>created_mnth</th>\n",
       "      <th>complaintCnt</th>\n",
       "    </tr>\n",
       "  </thead>\n",
       "  <tbody>\n",
       "    <tr>\n",
       "      <th>0</th>\n",
       "      <td>122 BRUCKNER BOULEVARD</td>\n",
       "      <td>0</td>\n",
       "      <td>0</td>\n",
       "      <td>0</td>\n",
       "      <td>5</td>\n",
       "      <td>6</td>\n",
       "      <td>1</td>\n",
       "      <td>15000</td>\n",
       "      <td>200</td>\n",
       "      <td>1</td>\n",
       "      <td>0</td>\n",
       "      <td>0</td>\n",
       "      <td>0</td>\n",
       "      <td>6</td>\n",
       "      <td>0</td>\n",
       "      <td>0</td>\n",
       "      <td>0</td>\n",
       "      <td>10454</td>\n",
       "      <td>232162</td>\n",
       "      <td>1005957</td>\n",
       "      <td>1</td>\n",
       "      <td>2013</td>\n",
       "      <td>nan</td>\n",
       "      <td>nan</td>\n",
       "      <td>nan</td>\n",
       "    </tr>\n",
       "    <tr>\n",
       "      <th>1</th>\n",
       "      <td>122 BRUCKNER BOULEVARD</td>\n",
       "      <td>0</td>\n",
       "      <td>0</td>\n",
       "      <td>0</td>\n",
       "      <td>5</td>\n",
       "      <td>6</td>\n",
       "      <td>1</td>\n",
       "      <td>15000</td>\n",
       "      <td>200</td>\n",
       "      <td>1</td>\n",
       "      <td>0</td>\n",
       "      <td>0</td>\n",
       "      <td>0</td>\n",
       "      <td>6</td>\n",
       "      <td>0</td>\n",
       "      <td>0</td>\n",
       "      <td>0</td>\n",
       "      <td>10454</td>\n",
       "      <td>232162</td>\n",
       "      <td>1005957</td>\n",
       "      <td>1</td>\n",
       "      <td>2014</td>\n",
       "      <td>nan</td>\n",
       "      <td>nan</td>\n",
       "      <td>nan</td>\n",
       "    </tr>\n",
       "  </tbody>\n",
       "</table>\n",
       "</div>"
      ],
      "text/plain": [
       "                  Address  BldgArea  BldgDepth  BuiltFAR  CommFAR  FacilFAR  \\\n",
       "0  122 BRUCKNER BOULEVARD         0          0         0        5         6   \n",
       "1  122 BRUCKNER BOULEVARD         0          0         0        5         6   \n",
       "\n",
       "   Lot  LotArea  LotDepth  NumBldgs  NumFloors  OfficeArea  ResArea  ResidFAR  \\\n",
       "0    1    15000       200         1          0           0        0         6   \n",
       "1    1    15000       200         1          0           0        0         6   \n",
       "\n",
       "   RetailArea  YearBuilt  YearAlter1  ZipCode  YCoord   XCoord  mnth    yr  \\\n",
       "0           0          0           0    10454  232162  1005957     1  2013   \n",
       "1           0          0           0    10454  232162  1005957     1  2014   \n",
       "\n",
       "            created_yr         created_mnth         complaintCnt  \n",
       "0                  nan                  nan                  nan  \n",
       "1                  nan                  nan                  nan  "
      ]
     },
     "execution_count": 30,
     "metadata": {},
     "output_type": "execute_result"
    }
   ],
   "source": [
    "df_combo.head(2)"
   ]
  },
  {
   "cell_type": "code",
   "execution_count": 31,
   "metadata": {},
   "outputs": [],
   "source": [
    "df_combo['complaintCnt'] = df_combo.complaintCnt.fillna('0').astype(int)\n",
    "df_combo['created_mnth'] = df_combo.created_mnth.fillna('0').astype(str)\n",
    "df_combo['created_yr'] = df_combo.created_yr.fillna('0').astype(str)"
   ]
  },
  {
   "cell_type": "markdown",
   "metadata": {},
   "source": [
    "#### Let us filter out the data that has YearBuilt as 0 to remove bad data"
   ]
  },
  {
   "cell_type": "code",
   "execution_count": 32,
   "metadata": {},
   "outputs": [
    {
     "name": "stdout",
     "output_type": "stream",
     "text": [
      "(5996520, 25)\n"
     ]
    }
   ],
   "source": [
    "df_combo = df_combo[df_combo['YearBuilt'] > 0]\n",
    "print(df_combo.shape)"
   ]
  },
  {
   "cell_type": "markdown",
   "metadata": {},
   "source": [
    "#### Let us create 2 new features Building Age from YearBuilt and Builkding Altered Age from YearAlter1"
   ]
  },
  {
   "cell_type": "code",
   "execution_count": 33,
   "metadata": {},
   "outputs": [
    {
     "name": "stdout",
     "output_type": "stream",
     "text": [
      "(5996520, 26)\n"
     ]
    }
   ],
   "source": [
    "df_combo['bldg_age'] = df_combo.apply(lambda x: x['yr']-x['YearBuilt'] , axis=1)\n",
    "print(df_combo.shape)"
   ]
  },
  {
   "cell_type": "code",
   "execution_count": 34,
   "metadata": {},
   "outputs": [
    {
     "name": "stdout",
     "output_type": "stream",
     "text": [
      "(5996520, 27)\n"
     ]
    }
   ],
   "source": [
    "df_combo['bldg_alt_age'] = df_combo.apply(lambda x: x['yr']-x['YearAlter1'] if x['YearAlter1']>0 else x['bldg_age'], axis=1)\n",
    "print(df_combo.shape)"
   ]
  },
  {
   "cell_type": "code",
   "execution_count": 35,
   "metadata": {},
   "outputs": [
    {
     "data": {
      "text/html": [
       "<div>\n",
       "<style scoped>\n",
       "    .dataframe tbody tr th:only-of-type {\n",
       "        vertical-align: middle;\n",
       "    }\n",
       "\n",
       "    .dataframe tbody tr th {\n",
       "        vertical-align: top;\n",
       "    }\n",
       "\n",
       "    .dataframe thead th {\n",
       "        text-align: right;\n",
       "    }\n",
       "</style>\n",
       "<table border=\"1\" class=\"dataframe\">\n",
       "  <thead>\n",
       "    <tr style=\"text-align: right;\">\n",
       "      <th></th>\n",
       "      <th>Address</th>\n",
       "      <th>BldgArea</th>\n",
       "      <th>BldgDepth</th>\n",
       "      <th>BuiltFAR</th>\n",
       "      <th>CommFAR</th>\n",
       "      <th>FacilFAR</th>\n",
       "      <th>Lot</th>\n",
       "      <th>LotArea</th>\n",
       "      <th>LotDepth</th>\n",
       "      <th>NumBldgs</th>\n",
       "      <th>NumFloors</th>\n",
       "      <th>OfficeArea</th>\n",
       "      <th>ResArea</th>\n",
       "      <th>ResidFAR</th>\n",
       "      <th>RetailArea</th>\n",
       "      <th>YearBuilt</th>\n",
       "      <th>YearAlter1</th>\n",
       "      <th>ZipCode</th>\n",
       "      <th>YCoord</th>\n",
       "      <th>XCoord</th>\n",
       "      <th>mnth</th>\n",
       "      <th>yr</th>\n",
       "      <th>created_yr</th>\n",
       "      <th>created_mnth</th>\n",
       "      <th>complaintCnt</th>\n",
       "      <th>bldg_age</th>\n",
       "      <th>bldg_alt_age</th>\n",
       "    </tr>\n",
       "  </thead>\n",
       "  <tbody>\n",
       "    <tr>\n",
       "      <th>72</th>\n",
       "      <td>126 BRUCKNER BOULEVARD</td>\n",
       "      <td>752</td>\n",
       "      <td>16</td>\n",
       "      <td>0</td>\n",
       "      <td>5</td>\n",
       "      <td>6</td>\n",
       "      <td>4</td>\n",
       "      <td>13770</td>\n",
       "      <td>100</td>\n",
       "      <td>2</td>\n",
       "      <td>1</td>\n",
       "      <td>272</td>\n",
       "      <td>0</td>\n",
       "      <td>6</td>\n",
       "      <td>0</td>\n",
       "      <td>1931</td>\n",
       "      <td>1994</td>\n",
       "      <td>10454</td>\n",
       "      <td>232156</td>\n",
       "      <td>1006076</td>\n",
       "      <td>1</td>\n",
       "      <td>2013</td>\n",
       "      <td>0</td>\n",
       "      <td>0</td>\n",
       "      <td>0</td>\n",
       "      <td>82</td>\n",
       "      <td>19</td>\n",
       "    </tr>\n",
       "    <tr>\n",
       "      <th>73</th>\n",
       "      <td>126 BRUCKNER BOULEVARD</td>\n",
       "      <td>752</td>\n",
       "      <td>16</td>\n",
       "      <td>0</td>\n",
       "      <td>5</td>\n",
       "      <td>6</td>\n",
       "      <td>4</td>\n",
       "      <td>13770</td>\n",
       "      <td>100</td>\n",
       "      <td>2</td>\n",
       "      <td>1</td>\n",
       "      <td>272</td>\n",
       "      <td>0</td>\n",
       "      <td>6</td>\n",
       "      <td>0</td>\n",
       "      <td>1931</td>\n",
       "      <td>1994</td>\n",
       "      <td>10454</td>\n",
       "      <td>232156</td>\n",
       "      <td>1006076</td>\n",
       "      <td>1</td>\n",
       "      <td>2014</td>\n",
       "      <td>0</td>\n",
       "      <td>0</td>\n",
       "      <td>0</td>\n",
       "      <td>83</td>\n",
       "      <td>20</td>\n",
       "    </tr>\n",
       "  </tbody>\n",
       "</table>\n",
       "</div>"
      ],
      "text/plain": [
       "                   Address  BldgArea  BldgDepth  BuiltFAR  CommFAR  FacilFAR  \\\n",
       "72  126 BRUCKNER BOULEVARD       752         16         0        5         6   \n",
       "73  126 BRUCKNER BOULEVARD       752         16         0        5         6   \n",
       "\n",
       "    Lot  LotArea  LotDepth  NumBldgs  NumFloors  OfficeArea  ResArea  \\\n",
       "72    4    13770       100         2          1         272        0   \n",
       "73    4    13770       100         2          1         272        0   \n",
       "\n",
       "    ResidFAR  RetailArea  YearBuilt  YearAlter1  ZipCode  YCoord   XCoord  \\\n",
       "72         6           0       1931        1994    10454  232156  1006076   \n",
       "73         6           0       1931        1994    10454  232156  1006076   \n",
       "\n",
       "    mnth    yr created_yr created_mnth  complaintCnt  bldg_age  bldg_alt_age  \n",
       "72     1  2013          0            0             0        82            19  \n",
       "73     1  2014          0            0             0        83            20  "
      ]
     },
     "execution_count": 35,
     "metadata": {},
     "output_type": "execute_result"
    }
   ],
   "source": [
    "df_combo.head(2)"
   ]
  },
  {
   "cell_type": "code",
   "execution_count": 36,
   "metadata": {},
   "outputs": [],
   "source": [
    "def cnt_range(cnt):\n",
    "    if cnt <= 0:\n",
    "        rng = 0\n",
    "    elif cnt <= 10 and cnt > 0:\n",
    "        rng = 1\n",
    "    elif cnt <= 100 and cnt > 10:\n",
    "        rng = 10\n",
    "    elif cnt > 100:\n",
    "        rng = 100\n",
    "    else:\n",
    "        rng = 10\n",
    "    return rng"
   ]
  },
  {
   "cell_type": "code",
   "execution_count": 37,
   "metadata": {},
   "outputs": [
    {
     "data": {
      "text/plain": [
       "(5996520, 28)"
      ]
     },
     "execution_count": 37,
     "metadata": {},
     "output_type": "execute_result"
    }
   ],
   "source": [
    "df_combo['complaint_range'] = df_combo['complaintCnt'].apply(lambda x: cnt_range(x))\n",
    "df_combo.shape"
   ]
  },
  {
   "cell_type": "code",
   "execution_count": 38,
   "metadata": {},
   "outputs": [
    {
     "data": {
      "text/html": [
       "<div>\n",
       "<style scoped>\n",
       "    .dataframe tbody tr th:only-of-type {\n",
       "        vertical-align: middle;\n",
       "    }\n",
       "\n",
       "    .dataframe tbody tr th {\n",
       "        vertical-align: top;\n",
       "    }\n",
       "\n",
       "    .dataframe thead th {\n",
       "        text-align: right;\n",
       "    }\n",
       "</style>\n",
       "<table border=\"1\" class=\"dataframe\">\n",
       "  <thead>\n",
       "    <tr style=\"text-align: right;\">\n",
       "      <th></th>\n",
       "      <th>Address</th>\n",
       "      <th>BldgArea</th>\n",
       "      <th>BldgDepth</th>\n",
       "      <th>BuiltFAR</th>\n",
       "      <th>CommFAR</th>\n",
       "      <th>FacilFAR</th>\n",
       "      <th>Lot</th>\n",
       "      <th>LotArea</th>\n",
       "      <th>LotDepth</th>\n",
       "      <th>NumBldgs</th>\n",
       "      <th>NumFloors</th>\n",
       "      <th>OfficeArea</th>\n",
       "      <th>ResArea</th>\n",
       "      <th>ResidFAR</th>\n",
       "      <th>RetailArea</th>\n",
       "      <th>YearBuilt</th>\n",
       "      <th>YearAlter1</th>\n",
       "      <th>ZipCode</th>\n",
       "      <th>YCoord</th>\n",
       "      <th>XCoord</th>\n",
       "      <th>mnth</th>\n",
       "      <th>yr</th>\n",
       "      <th>created_yr</th>\n",
       "      <th>created_mnth</th>\n",
       "      <th>complaintCnt</th>\n",
       "      <th>bldg_age</th>\n",
       "      <th>bldg_alt_age</th>\n",
       "    </tr>\n",
       "    <tr>\n",
       "      <th>complaint_range</th>\n",
       "      <th></th>\n",
       "      <th></th>\n",
       "      <th></th>\n",
       "      <th></th>\n",
       "      <th></th>\n",
       "      <th></th>\n",
       "      <th></th>\n",
       "      <th></th>\n",
       "      <th></th>\n",
       "      <th></th>\n",
       "      <th></th>\n",
       "      <th></th>\n",
       "      <th></th>\n",
       "      <th></th>\n",
       "      <th></th>\n",
       "      <th></th>\n",
       "      <th></th>\n",
       "      <th></th>\n",
       "      <th></th>\n",
       "      <th></th>\n",
       "      <th></th>\n",
       "      <th></th>\n",
       "      <th></th>\n",
       "      <th></th>\n",
       "      <th></th>\n",
       "      <th></th>\n",
       "      <th></th>\n",
       "    </tr>\n",
       "  </thead>\n",
       "  <tbody>\n",
       "    <tr>\n",
       "      <th>0</th>\n",
       "      <td>5914347</td>\n",
       "      <td>5914347</td>\n",
       "      <td>5914347</td>\n",
       "      <td>5914347</td>\n",
       "      <td>5914347</td>\n",
       "      <td>5914347</td>\n",
       "      <td>5914347</td>\n",
       "      <td>5914347</td>\n",
       "      <td>5914347</td>\n",
       "      <td>5914347</td>\n",
       "      <td>5914347</td>\n",
       "      <td>5914347</td>\n",
       "      <td>5914347</td>\n",
       "      <td>5914347</td>\n",
       "      <td>5914347</td>\n",
       "      <td>5914347</td>\n",
       "      <td>5914347</td>\n",
       "      <td>5914347</td>\n",
       "      <td>5914347</td>\n",
       "      <td>5914347</td>\n",
       "      <td>5914347</td>\n",
       "      <td>5914347</td>\n",
       "      <td>5914347</td>\n",
       "      <td>5914347</td>\n",
       "      <td>5914347</td>\n",
       "      <td>5914347</td>\n",
       "      <td>5914347</td>\n",
       "    </tr>\n",
       "    <tr>\n",
       "      <th>1</th>\n",
       "      <td>77496</td>\n",
       "      <td>77496</td>\n",
       "      <td>77496</td>\n",
       "      <td>77496</td>\n",
       "      <td>77496</td>\n",
       "      <td>77496</td>\n",
       "      <td>77496</td>\n",
       "      <td>77496</td>\n",
       "      <td>77496</td>\n",
       "      <td>77496</td>\n",
       "      <td>77496</td>\n",
       "      <td>77496</td>\n",
       "      <td>77496</td>\n",
       "      <td>77496</td>\n",
       "      <td>77496</td>\n",
       "      <td>77496</td>\n",
       "      <td>77496</td>\n",
       "      <td>77496</td>\n",
       "      <td>77496</td>\n",
       "      <td>77496</td>\n",
       "      <td>77496</td>\n",
       "      <td>77496</td>\n",
       "      <td>77496</td>\n",
       "      <td>77496</td>\n",
       "      <td>77496</td>\n",
       "      <td>77496</td>\n",
       "      <td>77496</td>\n",
       "    </tr>\n",
       "    <tr>\n",
       "      <th>10</th>\n",
       "      <td>4607</td>\n",
       "      <td>4607</td>\n",
       "      <td>4607</td>\n",
       "      <td>4607</td>\n",
       "      <td>4607</td>\n",
       "      <td>4607</td>\n",
       "      <td>4607</td>\n",
       "      <td>4607</td>\n",
       "      <td>4607</td>\n",
       "      <td>4607</td>\n",
       "      <td>4607</td>\n",
       "      <td>4607</td>\n",
       "      <td>4607</td>\n",
       "      <td>4607</td>\n",
       "      <td>4607</td>\n",
       "      <td>4607</td>\n",
       "      <td>4607</td>\n",
       "      <td>4607</td>\n",
       "      <td>4607</td>\n",
       "      <td>4607</td>\n",
       "      <td>4607</td>\n",
       "      <td>4607</td>\n",
       "      <td>4607</td>\n",
       "      <td>4607</td>\n",
       "      <td>4607</td>\n",
       "      <td>4607</td>\n",
       "      <td>4607</td>\n",
       "    </tr>\n",
       "    <tr>\n",
       "      <th>100</th>\n",
       "      <td>70</td>\n",
       "      <td>70</td>\n",
       "      <td>70</td>\n",
       "      <td>70</td>\n",
       "      <td>70</td>\n",
       "      <td>70</td>\n",
       "      <td>70</td>\n",
       "      <td>70</td>\n",
       "      <td>70</td>\n",
       "      <td>70</td>\n",
       "      <td>70</td>\n",
       "      <td>70</td>\n",
       "      <td>70</td>\n",
       "      <td>70</td>\n",
       "      <td>70</td>\n",
       "      <td>70</td>\n",
       "      <td>70</td>\n",
       "      <td>70</td>\n",
       "      <td>70</td>\n",
       "      <td>70</td>\n",
       "      <td>70</td>\n",
       "      <td>70</td>\n",
       "      <td>70</td>\n",
       "      <td>70</td>\n",
       "      <td>70</td>\n",
       "      <td>70</td>\n",
       "      <td>70</td>\n",
       "    </tr>\n",
       "  </tbody>\n",
       "</table>\n",
       "</div>"
      ],
      "text/plain": [
       "                 Address  BldgArea  BldgDepth  BuiltFAR  CommFAR  FacilFAR  \\\n",
       "complaint_range                                                              \n",
       "0                5914347   5914347    5914347   5914347  5914347   5914347   \n",
       "1                  77496     77496      77496     77496    77496     77496   \n",
       "10                  4607      4607       4607      4607     4607      4607   \n",
       "100                   70        70         70        70       70        70   \n",
       "\n",
       "                     Lot  LotArea  LotDepth  NumBldgs  NumFloors  OfficeArea  \\\n",
       "complaint_range                                                                \n",
       "0                5914347  5914347   5914347   5914347    5914347     5914347   \n",
       "1                  77496    77496     77496     77496      77496       77496   \n",
       "10                  4607     4607      4607      4607       4607        4607   \n",
       "100                   70       70        70        70         70          70   \n",
       "\n",
       "                 ResArea  ResidFAR  RetailArea  YearBuilt  YearAlter1  \\\n",
       "complaint_range                                                         \n",
       "0                5914347   5914347     5914347    5914347     5914347   \n",
       "1                  77496     77496       77496      77496       77496   \n",
       "10                  4607      4607        4607       4607        4607   \n",
       "100                   70        70          70         70          70   \n",
       "\n",
       "                 ZipCode   YCoord   XCoord     mnth       yr  created_yr  \\\n",
       "complaint_range                                                            \n",
       "0                5914347  5914347  5914347  5914347  5914347     5914347   \n",
       "1                  77496    77496    77496    77496    77496       77496   \n",
       "10                  4607     4607     4607     4607     4607        4607   \n",
       "100                   70       70       70       70       70          70   \n",
       "\n",
       "                 created_mnth  complaintCnt  bldg_age  bldg_alt_age  \n",
       "complaint_range                                                      \n",
       "0                     5914347       5914347   5914347       5914347  \n",
       "1                       77496         77496     77496         77496  \n",
       "10                       4607          4607      4607          4607  \n",
       "100                        70            70        70            70  "
      ]
     },
     "execution_count": 38,
     "metadata": {},
     "output_type": "execute_result"
    }
   ],
   "source": [
    "df_combo.groupby(['complaint_range']).count()"
   ]
  },
  {
   "cell_type": "markdown",
   "metadata": {},
   "source": [
    "#### In next step we are filtering out the records which have complaint count in a month that is more than 10 as the number of such records is very low"
   ]
  },
  {
   "cell_type": "code",
   "execution_count": 126,
   "metadata": {},
   "outputs": [
    {
     "data": {
      "text/plain": [
       "(5991843, 28)"
      ]
     },
     "execution_count": 126,
     "metadata": {},
     "output_type": "execute_result"
    }
   ],
   "source": [
    "df_combo_bin = df_combo[df_combo['complaint_range'] <= 1]\n",
    "df_combo_bin.shape"
   ]
  },
  {
   "cell_type": "markdown",
   "metadata": {},
   "source": [
    "#### Let us now create a Random Forest Classification model which can predict for a given month wherther there would be Hating Complaint at an address or not. To create the model we shall use data for 2012 to 2016 and we shall test the model with data for 2017"
   ]
  },
  {
   "cell_type": "code",
   "execution_count": 127,
   "metadata": {},
   "outputs": [
    {
     "data": {
      "text/plain": [
       "(3993826, 28)"
      ]
     },
     "execution_count": 127,
     "metadata": {},
     "output_type": "execute_result"
    }
   ],
   "source": [
    "df_combo_train = df_combo_bin[df_combo_bin['yr'].isin([2012,2013,2014,2015,2016])]\n",
    "df_combo_train.shape"
   ]
  },
  {
   "cell_type": "code",
   "execution_count": 128,
   "metadata": {},
   "outputs": [
    {
     "data": {
      "text/plain": [
       "(998597, 28)"
      ]
     },
     "execution_count": 128,
     "metadata": {},
     "output_type": "execute_result"
    }
   ],
   "source": [
    "df_combo_tst = df_combo_bin[df_combo_bin['yr'].isin([2017])]\n",
    "df_combo_tst.shape"
   ]
  },
  {
   "cell_type": "code",
   "execution_count": 79,
   "metadata": {},
   "outputs": [],
   "source": [
    "scaler = RobustScaler()"
   ]
  },
  {
   "cell_type": "code",
   "execution_count": 80,
   "metadata": {},
   "outputs": [],
   "source": [
    "clsfRF = RandomForestClassifier(n_estimators=10, random_state=5)\n",
    "pipeRFC = Pipeline(steps=[('scaler', scaler), ('classification', clsfRF)])"
   ]
  },
  {
   "cell_type": "code",
   "execution_count": 103,
   "metadata": {},
   "outputs": [],
   "source": [
    "feats = df_combo_train.columns.tolist()\n",
    "#response = 'ht_compl_flg' # change to delta later\n",
    "response = 'complaint_range'\n",
    "#feats.remove(response)\n",
    "feats.remove('complaintCnt')\n",
    "feats.remove('complaint_range')\n",
    "feats.remove('Address')\n",
    "feats.remove('YearBuilt')\n",
    "feats.remove('YearAlter1')\n",
    "feats.remove('yr')\n",
    "feats.remove('created_yr')\n",
    "feats.remove('created_mnth')\n",
    "\n",
    "\n",
    "X = df_combo_train[feats]\n",
    "y = df_combo_train[response]\n",
    "\n",
    "Xt = df_combo_tst[feats]\n",
    "Yt = df_combo_tst[response]"
   ]
  },
  {
   "cell_type": "code",
   "execution_count": 104,
   "metadata": {},
   "outputs": [
    {
     "data": {
      "text/plain": [
       "(998597,)"
      ]
     },
     "execution_count": 104,
     "metadata": {},
     "output_type": "execute_result"
    }
   ],
   "source": [
    "Yt.shape"
   ]
  },
  {
   "cell_type": "code",
   "execution_count": 105,
   "metadata": {},
   "outputs": [
    {
     "data": {
      "text/plain": [
       "Pipeline(memory=None,\n",
       "     steps=[('scaler', RobustScaler(copy=True, quantile_range=(25.0, 75.0), with_centering=True,\n",
       "       with_scaling=True)), ('classification', RandomForestClassifier(bootstrap=True, class_weight=None, criterion='gini',\n",
       "            max_depth=None, max_features='auto', max_leaf_nodes=None,\n",
       "            min...imators=10, n_jobs=None,\n",
       "            oob_score=False, random_state=5, verbose=0, warm_start=False))])"
      ]
     },
     "execution_count": 105,
     "metadata": {},
     "output_type": "execute_result"
    }
   ],
   "source": [
    "pipeRFC.fit(X, y)"
   ]
  },
  {
   "cell_type": "code",
   "execution_count": 106,
   "metadata": {},
   "outputs": [
    {
     "data": {
      "text/plain": [
       "(998597,)"
      ]
     },
     "execution_count": 106,
     "metadata": {},
     "output_type": "execute_result"
    }
   ],
   "source": [
    "y_pred_rfc = pipeRFC.predict(Xt)\n",
    "y_pred_rfc.shape"
   ]
  },
  {
   "cell_type": "code",
   "execution_count": 107,
   "metadata": {},
   "outputs": [
    {
     "name": "stdout",
     "output_type": "stream",
     "text": [
      "R2 score : -0.19987\n",
      "Mean squared error: 0.01667\n",
      "RMSE:0.12912 \n",
      "Recall: 0.327128037516\n",
      "Precision: 0.390732411101\n",
      "Clasification report: \n",
      "               precision    recall  f1-score   support\n",
      "\n",
      "           0       0.99      0.99      0.99    984523\n",
      "           1       0.39      0.33      0.36     14074\n",
      "\n",
      "   micro avg       0.98      0.98      0.98    998597\n",
      "   macro avg       0.69      0.66      0.67    998597\n",
      "weighted avg       0.98      0.98      0.98    998597\n",
      "\n",
      "Confussion matrix:\n",
      " [[977344   7179]\n",
      " [  9470   4604]]\n"
     ]
    }
   ],
   "source": [
    "print(\"R2 score : %.5f\" % r2_score(Yt,y_pred_rfc))\n",
    "print(\"Mean squared error: %.5f\" % mean_squared_error(Yt,y_pred_rfc))\n",
    "print(\"RMSE:%.5f \" % mean_squared_error(Yt, y_pred_rfc)**0.5)\n",
    "\n",
    "print('Recall:', recall_score(Yt, y_pred_rfc))\n",
    "print('Precision:', precision_score(Yt, y_pred_rfc))\n",
    "print('Clasification report: \\n', classification_report(Yt, y_pred_rfc))\n",
    "print('Confussion matrix:\\n',confusion_matrix(Yt, y_pred_rfc))"
   ]
  }
 ],
 "metadata": {
  "kernelspec": {
   "display_name": "Python 3",
   "language": "python",
   "name": "python3"
  },
  "language_info": {
   "codemirror_mode": {
    "name": "ipython",
    "version": 3
   },
   "file_extension": ".py",
   "mimetype": "text/x-python",
   "name": "python",
   "nbconvert_exporter": "python",
   "pygments_lexer": "ipython3",
   "version": "3.7.3"
  }
 },
 "nbformat": 4,
 "nbformat_minor": 2
}
