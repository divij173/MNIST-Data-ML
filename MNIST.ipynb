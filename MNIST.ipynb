{
 "cells": [
  {
   "cell_type": "code",
   "execution_count": 4,
   "metadata": {},
   "outputs": [
    {
     "ename": "SyntaxError",
     "evalue": "positional argument follows keyword argument (<ipython-input-4-e1757e644d42>, line 30)",
     "output_type": "error",
     "traceback": [
      "\u001b[1;36m  File \u001b[1;32m\"<ipython-input-4-e1757e644d42>\"\u001b[1;36m, line \u001b[1;32m30\u001b[0m\n\u001b[1;33m    model.fit(x_train,y_train,batch_size=128,epochs=3,verbose=1,validation_data(x_test,y_test))\u001b[0m\n\u001b[1;37m                                                               ^\u001b[0m\n\u001b[1;31mSyntaxError\u001b[0m\u001b[1;31m:\u001b[0m positional argument follows keyword argument\n"
     ]
    }
   ],
   "source": [
    "import tensorflow as tf\n",
    "from tensorflow import keras as ks\n",
    "\n",
    "(train_images,train_labels),(test_images,test_labels)=ks.datasets.fashion_mnist.load_data()\n",
    "\n",
    "x_train=train_images.reshape(train_images.shape[0],28,28,1)\n",
    "x_test=test_images.reshape(test_images.shape[0],28,28,1)\n",
    "\n",
    "x_train=x_train.astype('float32')/255.\n",
    "x_test=x_test.astype('float32')/255.\n",
    "\n",
    "y_train=ks.utils.to_categorical(train_labels,10)\n",
    "y_test=ks.utils.to_categorical(test_labels,10)\n",
    "\n",
    "input_shape=(28,28,1)\n",
    "\n",
    "model=ks.Sequential()\n",
    "model.add(ks.layers.Conv2D(32,kernel_size=(3,3),activision='relu',input_shape=input_size))\n",
    "model.add(ks.layers.Conv2D(64,(3,3),activision='relu'))\n",
    "model.add(ks.layers.MaxPooling2D(pool_size=(2,2)))\n",
    "model.add(ks.layers.Dropout(0.25))\n",
    "\n",
    "model.add(ks.layers.Flatten()) \n",
    "model.add(ks.layers.Dense(128,activision='relu'))\n",
    "model.add(ks.layers.Dropout(0.5))\n",
    "model.add(ks.layers.Dense(10,activision='relu'))\n",
    "model.summary()\n",
    "\n",
    "model.compile(loss=ks.losses.categorical_crossentropy,optimizer='adam',metrics=['accuracy'])\n",
    "model.fit(x_train,y_train,batch_size=128,epochs=3,verbose=1,validation_data(x_test,y_test))\n",
    "\n",
    "score=model.evaluate(x_test,y_test,verbose=0)\n",
    "score"
   ]
  },
  {
   "cell_type": "code",
   "execution_count": 6,
   "metadata": {},
   "outputs": [
    {
     "name": "stdout",
     "output_type": "stream",
     "text": [
      "Note: you may need to restart the kernel to use updated packages.\n"
     ]
    },
    {
     "name": "stderr",
     "output_type": "stream",
     "text": [
      "'C:\\Users\\DIVIJ' is not recognized as an internal or external command,\n",
      "operable program or batch file.\n"
     ]
    }
   ],
   "source": [
    "pip install --tensorflow"
   ]
  },
  {
   "cell_type": "code",
   "execution_count": null,
   "metadata": {},
   "outputs": [],
   "source": []
  },
  {
   "cell_type": "code",
   "execution_count": null,
   "metadata": {},
   "outputs": [],
   "source": []
  }
 ],
 "metadata": {
  "kernelspec": {
   "display_name": "Python 3",
   "language": "python",
   "name": "python3"
  },
  "language_info": {
   "codemirror_mode": {
    "name": "ipython",
    "version": 3
   },
   "file_extension": ".py",
   "mimetype": "text/x-python",
   "name": "python",
   "nbconvert_exporter": "python",
   "pygments_lexer": "ipython3",
   "version": "3.7.3"
  }
 },
 "nbformat": 4,
 "nbformat_minor": 2
}
